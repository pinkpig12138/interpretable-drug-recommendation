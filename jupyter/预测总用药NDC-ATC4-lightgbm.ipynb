{
 "cells": [
  {
   "cell_type": "code",
   "execution_count": null,
   "id": "f3932a2e",
   "metadata": {},
   "outputs": [],
   "source": [
    "import dill\n",
    "import pandas as pd\n",
    "from sklearn.model_selection import train_test_split\n",
    "from keras.layers import Dense\n",
    "import numpy as np\n",
    "\n",
    "data_path = r'F:\\PycharmProjects\\KDD\\SafeDrug\\SafeDrug-main\\data\\records_final_72features.pkl'\n",
    "data_ndc_path = r'F:\\PycharmProjects\\KDD\\SafeDrug\\SafeDrug-main\\data\\records_final_72features_ndc.pkl'\n",
    "data = dill.load(open(data_path, 'rb'))\n",
    "data_ndc = dill.load(open(data_ndc_path, 'rb'))\n",
    "X = []\n",
    "y = []\n",
    "for patient in data:\n",
    "    patient = data[i]\n",
    "    patient_ndc = data_ndc[i]\n",
    "    for admission in patient:\n",
    "#         print(admission)\n",
    "        drug = [0]*151\n",
    "        disease = [0] * 1956\n",
    "        for i in admission[0]:\n",
    "            disease[i] = 1\n",
    "        for i in admission[2]:\n",
    "            drug[i] = 1\n",
    "        X.append(disease + admission[3])\n",
    "        y.append(drug)\n",
    "X = np.array(X)\n",
    "y = np.array(y)\n",
    "# 划分数据集 9:1\n",
    "X_train, X_test, y_train, y_test = train_test_split(X, y, test_size=0.1, random_state=0)\n",
    "\n",
    "\n"
   ]
  }
 ],
 "metadata": {
  "kernelspec": {
   "display_name": "Python 3 (ipykernel)",
   "language": "python",
   "name": "python3"
  },
  "language_info": {
   "codemirror_mode": {
    "name": "ipython",
    "version": 3
   },
   "file_extension": ".py",
   "mimetype": "text/x-python",
   "name": "python",
   "nbconvert_exporter": "python",
   "pygments_lexer": "ipython3",
   "version": "3.9.7"
  }
 },
 "nbformat": 4,
 "nbformat_minor": 5
}
