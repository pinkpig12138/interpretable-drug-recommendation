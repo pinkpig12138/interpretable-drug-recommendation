{
 "cells": [
  {
   "cell_type": "code",
   "execution_count": 1,
   "id": "f4476efa",
   "metadata": {},
   "outputs": [],
   "source": [
    "import pandas as pd\n",
    "from sklearn.model_selection import train_test_split\n",
    "from keras.layers import Dense\n",
    "import numpy as np\n",
    "\n",
    "df = pd.read_csv(r'C:\\Users\\pinkpigma\\pinkpigma的同步盘\\KDD研二上\\可解释性框架-工作\\数据\\patient_diagnoses2000_ndc300_with_history_delete2.csv')\n",
    "# 预测第二天用药，第一天当做历史信息\n",
    "x = df.iloc[:,5:5+72+2000+300]\n",
    "y = df.iloc[:,5+72+2000+300:5+72+2000+300+300]\n",
    "\n",
    "\n",
    "# 将字符串类型的数据转化为数值\n",
    "from sklearn. preprocessing import LabelEncoder \n",
    "x['gender'] = LabelEncoder().fit_transform(x['gender'])\n",
    "x['ethnicity'] = LabelEncoder().fit_transform(x['ethnicity'])\n",
    "x['ethnicity_grouped'] = LabelEncoder().fit_transform(x['ethnicity_grouped'])\n",
    "x['first_hosp_stay'] = LabelEncoder().fit_transform(x['first_hosp_stay'])\n",
    "\n",
    "\n",
    "# 填补缺失值，用平均值\n",
    "from sklearn.impute import SimpleImputer\n",
    "imp = SimpleImputer(missing_values=np.nan, strategy='mean')\n",
    "x = imp.fit_transform(x)\n",
    "y = np.array(y)\n",
    "\n",
    "#标准化数据\n",
    "from sklearn.preprocessing import scale\n",
    "x = scale(x)\n",
    "\n",
    "# 划分数据集\n",
    "# X_train, X_test, y_train, y_test = train_test_split(x, y, test_size=0.2, random_state=0)\n",
    "# X_train = X_train.astype(np.float64)\n",
    "# X_test = X_test.astype(np.float64)\n",
    "# y_train = y_train.astype(np.int32)\n",
    "# y_test = y_test.astype(np.int32)\n",
    "\n",
    "\n"
   ]
  },
  {
   "cell_type": "code",
   "execution_count": 2,
   "id": "2f7dc15b",
   "metadata": {},
   "outputs": [],
   "source": [
    "from keras import backend as K\n",
    "from keras import losses\n",
    "from keras.layers import Dropout\n",
    "import numpy as np\n",
    "import tensorflow as tf\n",
    "from keras import losses\n",
    "def JI(y_true, y_pred):\n",
    "    y_true = K.flatten(y_true)\n",
    "    y_pred = K.flatten(y_pred)\n",
    "#     K.print_tensor(y_true, message='y_true = ')\n",
    "\n",
    "    threshold_value = 0.3\n",
    "\n",
    "    y_pred = K.cast(K.greater(y_pred, threshold_value), K.floatx())\n",
    "#     K.print_tensor(y_pred, message='y_pred = ')\n",
    "    fenzi = K.sum(y_true * y_pred, keepdims=True)\n",
    "#     K.print_tensor(fenzi, message='fenzi = ')\n",
    "    # true_positives_sum = K.sum(true_positives, keepdims=True)\n",
    "    fenmu = K.sum(K.cast((K.greater(y_true + y_pred, 0.8)), K.floatx()), keepdims=True)\n",
    "\n",
    "    return K.mean(fenzi / fenmu, axis=-1)\n",
    "\n",
    "\n",
    "\n",
    "def deep_model(feature_dim,label_dim, layer_num=1):\n",
    "\n",
    "    model = Sequential()\n",
    "    print(\"create model. feature_dim ={}, label_dim ={}\".format(feature_dim, label_dim))\n",
    "    model.add(Dense(512, activation='relu', input_dim=feature_dim))\n",
    "    \n",
    "    for i in range(layer_num):\n",
    "        model.add(Dense(512, activation='relu'))\n",
    "    model.add(Dense(label_dim, activation='sigmoid'))\n",
    "    model.compile(optimizer='adam', loss='binary_crossentropy', metrics=[JI])\n",
    "    return model\n",
    "\n",
    "import keras\n",
    "import matplotlib.pyplot as plt\n",
    "from keras.models import Sequential\n",
    "from keras.layers import Dense\n",
    "def train_DNN(X_train,y_train,X_test,y_test, \n",
    "               layer_num=1, \n",
    "               callbacks_list = [keras.callbacks.EarlyStopping(monitor='val_loss',patience=20)],\n",
    "               optimizer='adam', \n",
    "               metrics=[JI],\n",
    "               hidden_layer_num=1,\n",
    "               hidden_layer_units=512,\n",
    "               batch_size=256, \n",
    "               epochs=500,\n",
    "               hidden_layer_dropout = False,\n",
    "               input_layer_dropout = False,\n",
    "               dropout_rate = 0.2,\n",
    "               use_kernel_regularizer = False,\n",
    "              kernel_regularizer = keras.regularizers.l2(0.001)\n",
    "               ):\n",
    "    feature_dim = X_train.shape[1]\n",
    "    label_dim = y_train.shape[1]\n",
    "    model = Sequential()\n",
    "    print(\"create model. feature_dim ={}, label_dim ={}\".format(feature_dim, label_dim))\n",
    "    if input_layer_dropout:\n",
    "        model.add(Dropout(dropout_rate, input_shape=(feature_dim,)))\n",
    "    else:\n",
    "        model.add(Dense(hidden_layer_units, activation='relu', input_dim=feature_dim))\n",
    "    for i in range(hidden_layer_num):\n",
    "        if hidden_layer_dropout:\n",
    "            model.add(Dropout(dropout_rate))\n",
    "        if use_kernel_regularizer:\n",
    "            model.add(Dense(hidden_layer_units, activation='relu',kernel_regularizer=kernel_regularizer))\n",
    "        else:\n",
    "            model.add(Dense(hidden_layer_units, activation='relu'))\n",
    "        \n",
    "    model.add(Dense(label_dim, activation='sigmoid'))\n",
    "    model.compile(optimizer=optimizer, loss='binary_crossentropy', metrics=metrics)\n",
    "    model.summary()\n",
    "    history = model.fit(X_train,y_train,batch_size=batch_size, epochs=epochs,callbacks=callbacks_list,validation_data=(X_test,y_test), verbose=1)\n",
    "    plt.plot(history.history['loss'])\n",
    "    plt.plot(history.history['val_loss'])\n",
    "    plt.title('Model loss')\n",
    "    plt.ylabel('Loss')\n",
    "    plt.xlabel('Epoch')\n",
    "    plt.legend(['Train', 'Test'], loc='upper left')\n",
    "    plt.show()\n",
    "    JI_list = history.history['val_JI']\n",
    "    print( \"验证集上的最优结果是%s,对应训练轮次是%d\" % (max(JI_list),JI_list.index(max(JI_list))+1) )\n",
    "    return max(JI_list)\n",
    "\n",
    "\n"
   ]
  },
  {
   "cell_type": "code",
   "execution_count": 3,
   "id": "b4d41f1c",
   "metadata": {},
   "outputs": [],
   "source": [
    "# 划分数据集 9:1\n",
    "X_train, X_test, y_train, y_test = train_test_split(x, y, test_size=0.1, random_state=0)\n",
    "X_train = X_train.astype(np.float64)\n",
    "X_test = X_test.astype(np.float64)\n",
    "y_train = y_train.astype(np.int32)\n",
    "y_test = y_test.astype(np.int32)"
   ]
  },
  {
   "cell_type": "code",
   "execution_count": 4,
   "id": "7b046a9c",
   "metadata": {},
   "outputs": [
    {
     "name": "stdout",
     "output_type": "stream",
     "text": [
      "create model. feature_dim =2372, label_dim =300\n",
      "Model: \"sequential\"\n",
      "_________________________________________________________________\n",
      " Layer (type)                Output Shape              Param #   \n",
      "=================================================================\n",
      " dense (Dense)               (None, 512)               1214976   \n",
      "                                                                 \n",
      " dense_1 (Dense)             (None, 512)               262656    \n",
      "                                                                 \n",
      " dense_2 (Dense)             (None, 300)               153900    \n",
      "                                                                 \n",
      "=================================================================\n",
      "Total params: 1,631,532\n",
      "Trainable params: 1,631,532\n",
      "Non-trainable params: 0\n",
      "_________________________________________________________________\n",
      "Epoch 1/200\n",
      "110/110 [==============================] - 3s 20ms/step - loss: 0.1261 - JI: 0.0866 - val_loss: 0.0895 - val_JI: 0.1242\n",
      "Epoch 2/200\n",
      "110/110 [==============================] - 2s 17ms/step - loss: 0.0803 - JI: 0.1807 - val_loss: 0.0843 - val_JI: 0.1567\n",
      "Epoch 3/200\n",
      "110/110 [==============================] - 2s 17ms/step - loss: 0.0708 - JI: 0.2514 - val_loss: 0.0841 - val_JI: 0.1714\n",
      "Epoch 4/200\n",
      "110/110 [==============================] - 2s 17ms/step - loss: 0.0635 - JI: 0.3155 - val_loss: 0.0853 - val_JI: 0.1810\n",
      "Epoch 5/200\n",
      "110/110 [==============================] - 2s 16ms/step - loss: 0.0570 - JI: 0.3753 - val_loss: 0.0887 - val_JI: 0.1763\n",
      "Epoch 6/200\n",
      "110/110 [==============================] - 2s 16ms/step - loss: 0.0511 - JI: 0.4330 - val_loss: 0.0932 - val_JI: 0.1739\n",
      "Epoch 7/200\n",
      "110/110 [==============================] - 2s 16ms/step - loss: 0.0455 - JI: 0.4854 - val_loss: 0.0989 - val_JI: 0.1710\n",
      "Epoch 8/200\n",
      "110/110 [==============================] - 2s 16ms/step - loss: 0.0404 - JI: 0.5351 - val_loss: 0.1055 - val_JI: 0.1699\n",
      "Epoch 9/200\n",
      "110/110 [==============================] - 2s 17ms/step - loss: 0.0357 - JI: 0.5842 - val_loss: 0.1134 - val_JI: 0.1684\n",
      "Epoch 10/200\n",
      "110/110 [==============================] - 2s 16ms/step - loss: 0.0315 - JI: 0.6287 - val_loss: 0.1218 - val_JI: 0.1620\n",
      "Epoch 11/200\n",
      "110/110 [==============================] - 2s 16ms/step - loss: 0.0277 - JI: 0.6706 - val_loss: 0.1302 - val_JI: 0.1606\n",
      "Epoch 12/200\n",
      "110/110 [==============================] - 2s 16ms/step - loss: 0.0243 - JI: 0.7076 - val_loss: 0.1399 - val_JI: 0.1585\n",
      "Epoch 13/200\n",
      "110/110 [==============================] - 2s 17ms/step - loss: 0.0212 - JI: 0.7432 - val_loss: 0.1498 - val_JI: 0.1529\n",
      "Epoch 14/200\n",
      "110/110 [==============================] - 2s 17ms/step - loss: 0.0187 - JI: 0.7737 - val_loss: 0.1611 - val_JI: 0.1559\n",
      "Epoch 15/200\n",
      "110/110 [==============================] - 2s 17ms/step - loss: 0.0163 - JI: 0.8030 - val_loss: 0.1703 - val_JI: 0.1501\n",
      "Epoch 16/200\n",
      "110/110 [==============================] - 2s 17ms/step - loss: 0.0143 - JI: 0.8301 - val_loss: 0.1812 - val_JI: 0.1505\n",
      "Epoch 17/200\n",
      "110/110 [==============================] - 2s 17ms/step - loss: 0.0125 - JI: 0.8529 - val_loss: 0.1912 - val_JI: 0.1501\n",
      "Epoch 18/200\n",
      "110/110 [==============================] - 2s 17ms/step - loss: 0.0110 - JI: 0.8720 - val_loss: 0.2031 - val_JI: 0.1503\n",
      "Epoch 19/200\n",
      "110/110 [==============================] - 2s 17ms/step - loss: 0.0097 - JI: 0.8879 - val_loss: 0.2134 - val_JI: 0.1484\n",
      "Epoch 20/200\n",
      "110/110 [==============================] - 2s 15ms/step - loss: 0.0088 - JI: 0.8994 - val_loss: 0.2250 - val_JI: 0.1459\n",
      "Epoch 21/200\n",
      "110/110 [==============================] - 2s 14ms/step - loss: 0.0080 - JI: 0.9078 - val_loss: 0.2339 - val_JI: 0.1444\n",
      "Epoch 22/200\n",
      "110/110 [==============================] - 2s 15ms/step - loss: 0.0075 - JI: 0.9145 - val_loss: 0.2456 - val_JI: 0.1434\n",
      "Epoch 23/200\n",
      "110/110 [==============================] - 2s 16ms/step - loss: 0.0071 - JI: 0.9179 - val_loss: 0.2556 - val_JI: 0.1456\n"
     ]
    },
    {
     "data": {
      "image/png": "[encoded data removed]",
      "text/plain": [
       "<Figure size 432x288 with 1 Axes>"
      ]
     },
     "metadata": {
      "needs_background": "light"
     },
     "output_type": "display_data"
    },
    {
     "name": "stdout",
     "output_type": "stream",
     "text": [
      "验证集上的最优结果是0.18095311522483826,对应训练轮次是4\n"
     ]
    },
    {
     "data": {
      "text/plain": [
       "0.18095311522483826"
      ]
     },
     "execution_count": 4,
     "metadata": {},
     "output_type": "execute_result"
    }
   ],
   "source": [
    "train_DNN(X_train,y_train,X_test,y_test,epochs=200)"
   ]
  },
  {
   "cell_type": "code",
   "execution_count": null,
   "id": "2612fdab",
   "metadata": {},
   "outputs": [],
   "source": [
    "train_DNN(X_train,y_train,X_test,y_test,callbacks_list = [],epochs=200,hidden_layer_num=3, use_kernel_regularizer=True)"
   ]
  },
  {
   "cell_type": "code",
   "execution_count": null,
   "id": "95269e17",
   "metadata": {},
   "outputs": [],
   "source": [
    "train_DNN(X_train,y_train,X_test,y_test,callbacks_list = [keras.callbacks.EarlyStopping(monitor='val_loss',patience=20)],epochs=200,hidden_layer_num=3, input_layer_dropout=True)"
   ]
  },
  {
   "cell_type": "code",
   "execution_count": null,
   "id": "6738fbd9",
   "metadata": {},
   "outputs": [],
   "source": [
    "train_DNN(X_train,y_train,X_test,y_test,callbacks_list = [keras.callbacks.EarlyStopping(monitor='val_loss',patience=20)],epochs=200,hidden_layer_num=3, hidden_layer_dropout=True)"
   ]
  },
  {
   "cell_type": "code",
   "execution_count": null,
   "id": "48a0fa5e",
   "metadata": {},
   "outputs": [],
   "source": [
    "train_DNN(X_train,y_train,X_test,y_test,callbacks_list = [keras.callbacks.EarlyStopping(monitor='val_loss',patience=20)],epochs=200,hidden_layer_num=3, hidden_layer_dropout=True, use_kernel_regularizer=True)"
   ]
  },
  {
   "cell_type": "code",
   "execution_count": null,
   "id": "4127e9d4",
   "metadata": {},
   "outputs": [],
   "source": [
    "train_DNN(X_train,y_train,X_test,y_test,callbacks_list = [keras.callbacks.EarlyStopping(monitor='val_loss',patience=20)],epochs=200,hidden_layer_num=3, hidden_layer_dropout=True, use_kernel_regularizer=True,kernel_regularizer = keras.regularizers.l2(0.0001))"
   ]
  },
  {
   "cell_type": "code",
   "execution_count": null,
   "id": "8b61d96d",
   "metadata": {},
   "outputs": [],
   "source": [
    "train_DNN(X_train,y_train,X_test,y_test,callbacks_list = [keras.callbacks.EarlyStopping(monitor='val_loss',patience=20),\n",
    "                                                             keras.callbacks.ReduceLROnPlateau(\n",
    "     # This callback will monitor the validation loss of the model\n",
    "     monitor='val_loss',\n",
    "     # It will divide the learning by 10 when it gets triggered\n",
    "     factor=0.1,\n",
    "     # It will get triggered after the validation loss has stopped improving\n",
    "     # for at least 10 epochs\n",
    "     patience=10,\n",
    "    ),],epochs=200,hidden_layer_num=3, hidden_layer_dropout=True, use_kernel_regularizer=True,kernel_regularizer = keras.regularizers.l2(0.0001))"
   ]
  },
  {
   "cell_type": "code",
   "execution_count": null,
   "id": "1f5f0dfe",
   "metadata": {},
   "outputs": [],
   "source": [
    "train_DNN(X_train,y_train,X_test,y_test,callbacks_list = [keras.callbacks.EarlyStopping(monitor='val_loss',patience=20),\n",
    "                                                             keras.callbacks.ReduceLROnPlateau(\n",
    "     # This callback will monitor the validation loss of the model\n",
    "     monitor='val_loss',\n",
    "     # It will divide the learning by 10 when it gets triggered\n",
    "     factor=0.1,\n",
    "     # It will get triggered after the validation loss has stopped improving\n",
    "     # for at least 10 epochs\n",
    "     patience=10,\n",
    "    ),],epochs=200,hidden_layer_num=3, hidden_layer_dropout=True, use_kernel_regularizer=True,kernel_regularizer = keras.regularizers.l2(0.0001), optimizer = tf.keras.optimizers.Adam(learning_rate=0.01))"
   ]
  },
  {
   "cell_type": "code",
   "execution_count": null,
   "id": "e1db3a3b",
   "metadata": {},
   "outputs": [],
   "source": [
    "# 参数调节\n",
    "import tensorflow as tf\n",
    "lr_list = [1,0.1,0.01,0.001,0.0001]\n",
    "\n",
    "optimizer_list = []\n",
    "for i in lr_list:\n",
    "    optimizer_list.append(tf.keras.optimizers.SGD(learning_rate=i))\n",
    "    optimizer_list.append(tf.keras.optimizers.Adagrad(learning_rate=i))\n",
    "    optimizer_list.append(tf.keras.optimizers.Adadelta(learning_rate=i))\n",
    "    optimizer_list.append(tf.keras.optimizers.Adam(learning_rate=i))\n",
    "\n",
    "hidden_layer_num_list=[1,2,3,4,5,6,7,8]\n",
    "hidden_layer_units_list=[512,256,128,64,32,16]\n",
    "batch_size_list=[512,256,128,64]\n",
    "hidden_layer_dropout_list = [True,False]\n",
    "input_layer_dropout_list = [True,False]\n",
    "dropout_rate_list = [0.1,0.2,0.3,0.4,0.5]\n",
    "use_kernel_regularizer_list = [True,False]\n",
    "re_cof_list = [1,0.1,0.01,0.001,0.0001,0.00001,0.000001]\n",
    "kernel_regularizer_list = []\n",
    "for i in re_cof_list:\n",
    "    kernel_regularizer_list.append(tf.keras.regularizers.l1(i))\n",
    "    kernel_regularizer_list.append(tf.keras.regularizers.l2(i))\n",
    "\n",
    "\n",
    "\n"
   ]
  },
  {
   "cell_type": "code",
   "execution_count": null,
   "id": "458bc9c2",
   "metadata": {},
   "outputs": [],
   "source": [
    "results = []\n",
    "# 调正则化参数\n",
    "for re in kernel_regularizer_list:\n",
    "    results.append(train_DNN(X_train,y_train,X_test,y_test,callbacks_list = [keras.callbacks.EarlyStopping(monitor='val_loss',patience=20)],use_kernel_regularizer = True,kernel_regularizer = re))\n",
    "results\n",
    "    \n"
   ]
  },
  {
   "cell_type": "code",
   "execution_count": null,
   "id": "0c342bcc",
   "metadata": {},
   "outputs": [],
   "source": [
    "results = []\n",
    "# 调dropout\n",
    "for dropout_rate in [0.1,0.2,0.3,0.4,0.5]:\n",
    "    results.append(train_DNN(X_train,y_train,X_test,y_test,callbacks_list = [keras.callbacks.EarlyStopping(monitor='val_loss',patience=20)],hidden_layer_dropout = True,dropout_rate = dropout_rate))\n",
    "results\n",
    "    "
   ]
  },
  {
   "cell_type": "code",
   "execution_count": null,
   "id": "1d969b56",
   "metadata": {},
   "outputs": [],
   "source": [
    "results = []\n",
    "# 调dropout\n",
    "for dropout_rate in [0.1,0.2,0.3,0.4,0.5]:\n",
    "    results.append(train_DNN(X_train,y_train,X_test,y_test,callbacks_list = [keras.callbacks.EarlyStopping(monitor='val_loss',patience=20)],input_layer_dropout = True,dropout_rate = dropout_rate))\n",
    "results\n",
    "    "
   ]
  },
  {
   "cell_type": "code",
   "execution_count": null,
   "id": "330c9654",
   "metadata": {},
   "outputs": [],
   "source": [
    "# 不同JI阈值\n",
    "results = []\n",
    "for threshold in [0.1,0.2,0.3,0.4,0.5,0.6,0.7,0.8]:\n",
    "    def JI(y_true, y_pred):\n",
    "        y_true = K.flatten(y_true)\n",
    "        y_pred = K.flatten(y_pred)\n",
    "#         K.print_tensor(y_true, message='y_true = ')\n",
    "\n",
    "        threshold_value = threshold\n",
    "\n",
    "        y_pred = K.cast(K.greater(y_pred, threshold_value), K.floatx())\n",
    "#         K.print_tensor(y_pred, message='y_pred = ')\n",
    "        fenzi = K.sum(y_true * y_pred, keepdims=True)\n",
    "        # true_positives_sum = K.sum(true_positives, keepdims=True)\n",
    "        fenmu = K.sum(K.cast((K.greater(y_true + y_pred, 0.8)), K.floatx()), keepdims=True)\n",
    "\n",
    "        return K.mean(fenzi / fenmu, axis=-1)\n",
    "    results.append(train_DNN(X_train,y_train,X_test,y_test,callbacks_list = [keras.callbacks.EarlyStopping(monitor='val_loss',patience=20)],metrics=[JI]))"
   ]
  },
  {
   "cell_type": "code",
   "execution_count": null,
   "id": "49be3dfb",
   "metadata": {},
   "outputs": [],
   "source": [
    "results"
   ]
  },
  {
   "cell_type": "code",
   "execution_count": null,
   "id": "301cfb2d",
   "metadata": {},
   "outputs": [],
   "source": [
    "train_DNN(X_train,y_train,X_test,y_test,callbacks_list = [keras.callbacks.EarlyStopping(monitor='val_loss',patience=20)],metrics=['acc',JI])"
   ]
  },
  {
   "cell_type": "code",
   "execution_count": null,
   "id": "2dde080d",
   "metadata": {},
   "outputs": [],
   "source": [
    "train_DNN(X_train,y_train,X_test,y_test,callbacks_list = [keras.callbacks.EarlyStopping(monitor='val_loss',patience=20)])"
   ]
  },
  {
   "cell_type": "code",
   "execution_count": null,
   "id": "3478cb0b",
   "metadata": {},
   "outputs": [],
   "source": []
  },
  {
   "cell_type": "code",
   "execution_count": null,
   "id": "f8a2b89a",
   "metadata": {},
   "outputs": [],
   "source": []
  }
 ],
 "metadata": {
  "kernelspec": {
   "display_name": "Python 3 (ipykernel)",
   "language": "python",
   "name": "python3"
  },
  "language_info": {
   "codemirror_mode": {
    "name": "ipython",
    "version": 3
   },
   "file_extension": ".py",
   "mimetype": "text/x-python",
   "name": "python",
   "nbconvert_exporter": "python",
   "pygments_lexer": "ipython3",
   "version": "3.9.7"
  }
 },
 "nbformat": 4,
 "nbformat_minor": 5
}
