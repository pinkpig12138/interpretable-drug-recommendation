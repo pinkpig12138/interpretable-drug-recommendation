{
 "cells": [
  {
   "cell_type": "code",
   "execution_count": 2,
   "id": "76d95cd7",
   "metadata": {},
   "outputs": [],
   "source": [
    "import dill\n",
    "import pandas as pd\n",
    "from sklearn.model_selection import train_test_split\n",
    "from keras.layers import Dense\n",
    "import numpy as np\n",
    "\n",
    "data_path = r'F:\\PycharmProjects\\KDD\\SafeDrug\\SafeDrug-main\\data\\records_final_72features.pkl'\n",
    "data = dill.load(open(data_path, 'rb'))\n",
    "X = []\n",
    "y = []\n",
    "for patient in data:\n",
    "    for admission in patient:\n",
    "#         print(admission)\n",
    "        drug = [0]*151\n",
    "        disease = [0] * 1956\n",
    "        for i in admission[0]:\n",
    "            disease[i] = 1\n",
    "        for i in admission[2]:\n",
    "            drug[i] = 1\n",
    "        X.append(disease + admission[3])\n",
    "        y.append(drug)\n",
    "X = np.array(X)\n",
    "y = np.array(y)\n",
    "# 划分数据集 9:1\n",
    "X_train, X_test, y_train, y_test = train_test_split(X, y, test_size=0.1, random_state=0)\n",
    "\n",
    "\n"
   ]
  },
  {
   "cell_type": "code",
   "execution_count": null,
   "id": "d2969401",
   "metadata": {},
   "outputs": [],
   "source": [
    "from lightgbm import LGBMClassifier\n",
    "from sklearn.multiclass import OneVsRestClassifier\n",
    "import numpy as np\n",
    "\n",
    "clf_multilabel = OneVsRestClassifier(LGBMClassifier(),n_jobs = 4)\n",
    "clf_multilabel.fit(X_train,y_train)"
   ]
  },
  {
   "cell_type": "code",
   "execution_count": null,
   "id": "b904ae00",
   "metadata": {},
   "outputs": [],
   "source": [
    "val_pred = clf_multilabel.predict(X_test)\n",
    "train_pred= clf_multilabel.predict(X_train)\n",
    "\n"
   ]
  },
  {
   "cell_type": "code",
   "execution_count": null,
   "id": "84c3062a",
   "metadata": {},
   "outputs": [],
   "source": [
    "def jaccard(y_gt, y_pred):\n",
    "    score = []\n",
    "    for b in range(y_gt.shape[0]):\n",
    "        target = np.where(y_gt[b] == 1)[0]\n",
    "        out_list = np.where(y_pred[b] == 1)[0]\n",
    "        inter = set(out_list) & set(target)\n",
    "        union = set(out_list) | set(target)\n",
    "        jaccard_score = 0 if union == 0 else len(inter) / len(union)\n",
    "        score.append(jaccard_score)\n",
    "    return np.mean(score)\n",
    "\n",
    "jaccard(y_test, val_pred)"
   ]
  },
  {
   "cell_type": "code",
   "execution_count": null,
   "id": "23fb8e83",
   "metadata": {},
   "outputs": [],
   "source": [
    "jaccard(y_train, train_pred)"
   ]
  },
  {
   "cell_type": "code",
   "execution_count": null,
   "id": "1c00083b",
   "metadata": {},
   "outputs": [],
   "source": [
    "# 保存模型\n",
    "\n",
    "import pickle\n",
    "with open( r'C:\\Users\\pinkpigma\\pinkpigma的同步盘\\KDD研二上\\jupyter\\model\\lightgbm.pkl', 'wb') as f:\n",
    "    pickle.dump(clf_multilabel, f)\n"
   ]
  },
  {
   "cell_type": "code",
   "execution_count": 3,
   "id": "13a4be5d",
   "metadata": {},
   "outputs": [
    {
     "ename": "NameError",
     "evalue": "name 'pickle' is not defined",
     "output_type": "error",
     "traceback": [
      "\u001b[1;31m---------------------------------------------------------------------------\u001b[0m",
      "\u001b[1;31mNameError\u001b[0m                                 Traceback (most recent call last)",
      "\u001b[1;32mC:\\Users\\PINKPI~1\\AppData\\Local\\Temp/ipykernel_4780/1665855026.py\u001b[0m in \u001b[0;36m<module>\u001b[1;34m\u001b[0m\n\u001b[0;32m      1\u001b[0m \u001b[1;31m# 读取模型\u001b[0m\u001b[1;33m\u001b[0m\u001b[1;33m\u001b[0m\u001b[0m\n\u001b[0;32m      2\u001b[0m \u001b[1;32mwith\u001b[0m \u001b[0mopen\u001b[0m\u001b[1;33m(\u001b[0m\u001b[1;34mr'C:\\Users\\pinkpigma\\pinkpigma的同步盘\\KDD研二上\\jupyter\\model\\lightgbm.pkl'\u001b[0m\u001b[1;33m,\u001b[0m \u001b[1;34m'rb'\u001b[0m\u001b[1;33m)\u001b[0m \u001b[1;32mas\u001b[0m \u001b[0mf\u001b[0m\u001b[1;33m:\u001b[0m\u001b[1;33m\u001b[0m\u001b[1;33m\u001b[0m\u001b[0m\n\u001b[1;32m----> 3\u001b[1;33m     \u001b[0mclf_multilabel\u001b[0m \u001b[1;33m=\u001b[0m \u001b[0mpickle\u001b[0m\u001b[1;33m.\u001b[0m\u001b[0mload\u001b[0m\u001b[1;33m(\u001b[0m\u001b[0mf\u001b[0m\u001b[1;33m)\u001b[0m\u001b[1;33m\u001b[0m\u001b[1;33m\u001b[0m\u001b[0m\n\u001b[0m",
      "\u001b[1;31mNameError\u001b[0m: name 'pickle' is not defined"
     ]
    }
   ],
   "source": [
    "# 读取模型\n",
    "with open(r'C:\\Users\\pinkpigma\\pinkpigma的同步盘\\KDD研二上\\jupyter\\model\\lightgbm.pkl', 'rb') as f:\n",
    "    clf_multilabel = pickle.load(f)\n"
   ]
  },
  {
   "cell_type": "code",
   "execution_count": null,
   "id": "32bd6b29",
   "metadata": {},
   "outputs": [],
   "source": [
    "import shap\n",
    "for lightgbm_model in clf_multilabel.estimators_:\n",
    "    shap_values = shap.TreeExplainer(lightgbm_model.booster_).shap_values(X_test[:10,:])\n",
    "    print(len(shap_values[1]))\n",
    "    exit()"
   ]
  },
  {
   "cell_type": "code",
   "execution_count": null,
   "id": "58901af8",
   "metadata": {},
   "outputs": [],
   "source": []
  }
 ],
 "metadata": {
  "kernelspec": {
   "display_name": "Python 3 (ipykernel)",
   "language": "python",
   "name": "python3"
  },
  "language_info": {
   "codemirror_mode": {
    "name": "ipython",
    "version": 3
   },
   "file_extension": ".py",
   "mimetype": "text/x-python",
   "name": "python",
   "nbconvert_exporter": "python",
   "pygments_lexer": "ipython3",
   "version": "3.9.7"
  }
 },
 "nbformat": 4,
 "nbformat_minor": 5
}
