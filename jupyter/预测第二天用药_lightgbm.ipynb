{
 "cells": [
  {
   "cell_type": "code",
   "execution_count": 2,
   "id": "1519b2f8",
   "metadata": {},
   "outputs": [],
   "source": [
    "from lightgbm import LGBMClassifier\n",
    "from sklearn.multiclass import OneVsRestClassifier\n",
    "import numpy as np\n",
    "\n",
    "clf_multilabel = OneVsRestClassifier(LGBMClassifier(),n_jobs = 4)\n"
   ]
  },
  {
   "cell_type": "code",
   "execution_count": 3,
   "id": "4e882904",
   "metadata": {},
   "outputs": [],
   "source": [
    "\n",
    "import pandas as pd\n",
    "from sklearn.model_selection import train_test_split\n",
    "from keras.layers import Dense\n",
    "import numpy as np\n",
    "\n",
    "df = pd.read_csv(r'C:\\Users\\pinkpigma\\pinkpigma的同步盘\\KDD研二上\\可解释性框架-工作\\数据\\patient_diagnoses2000_ndc300_with_history_delete2.csv')\n",
    "# 预测第二天用药，第一天当做历史信息\n",
    "x = df.iloc[:,5:5+72+2000+300]\n",
    "y = df.iloc[:,5+72+2000+300:5+72+2000+300+300]\n",
    "\n",
    "\n",
    "# 将字符串类型的数据转化为数值\n",
    "from sklearn. preprocessing import LabelEncoder \n",
    "x['gender'] = LabelEncoder().fit_transform(x['gender'])\n",
    "x['ethnicity'] = LabelEncoder().fit_transform(x['ethnicity'])\n",
    "x['ethnicity_grouped'] = LabelEncoder().fit_transform(x['ethnicity_grouped'])\n",
    "x['first_hosp_stay'] = LabelEncoder().fit_transform(x['first_hosp_stay'])\n",
    "\n",
    "\n",
    "# 填补缺失值，用平均值\n",
    "from sklearn.impute import SimpleImputer\n",
    "imp = SimpleImputer(missing_values=np.nan, strategy='mean')\n",
    "x = imp.fit_transform(x)\n",
    "y = np.array(y)\n",
    "\n",
    "# 划分数据集 9:1\n",
    "X_train, X_test, y_train, y_test = train_test_split(x, y, test_size=0.1, random_state=2)\n",
    "X_train = X_train.astype(np.float64)\n",
    "X_test = X_test.astype(np.float64)\n",
    "y_train = y_train.astype(np.int32)\n",
    "y_test = y_test.astype(np.int32)"
   ]
  },
  {
   "cell_type": "code",
   "execution_count": 4,
   "id": "fc4e00f0",
   "metadata": {},
   "outputs": [
    {
     "data": {
      "text/plain": [
       "OneVsRestClassifier(estimator=LGBMClassifier(), n_jobs=4)"
      ]
     },
     "execution_count": 4,
     "metadata": {},
     "output_type": "execute_result"
    }
   ],
   "source": [
    "\n",
    "\n",
    "clf_multilabel.fit(X_train,y_train)\n"
   ]
  },
  {
   "cell_type": "code",
   "execution_count": 5,
   "id": "c4f92a47",
   "metadata": {},
   "outputs": [],
   "source": [
    "\n",
    "val_pred = clf_multilabel.predict(X_test)"
   ]
  },
  {
   "cell_type": "code",
   "execution_count": 9,
   "id": "811f9ab1",
   "metadata": {},
   "outputs": [],
   "source": [
    "train_pred= clf_multilabel.predict(X_train)"
   ]
  },
  {
   "cell_type": "code",
   "execution_count": null,
   "id": "177f7679",
   "metadata": {},
   "outputs": [],
   "source": []
  },
  {
   "cell_type": "code",
   "execution_count": 6,
   "id": "d7275612",
   "metadata": {},
   "outputs": [],
   "source": [
    "def jaccard(y_true, y_pred):\n",
    "    fenzi=0\n",
    "    fenmu=0\n",
    "    for i in range(len(y_true)):\n",
    "        fenzi += y_true[i] & y_pred[i]\n",
    "        fenmu += y_true[i] | y_pred[i]\n",
    "    return fenzi/fenmu\n",
    "    "
   ]
  },
  {
   "cell_type": "code",
   "execution_count": 7,
   "id": "7dc785cc",
   "metadata": {},
   "outputs": [
    {
     "data": {
      "text/plain": [
       "0.10252420685919524"
      ]
     },
     "execution_count": 7,
     "metadata": {},
     "output_type": "execute_result"
    }
   ],
   "source": [
    "JI = 0\n",
    "for i in range(len(y_test)):\n",
    "    JI += jaccard(y_test[i], val_pred[i])\n",
    "JI/len(y_test)\n",
    "\n",
    "\n"
   ]
  },
  {
   "cell_type": "code",
   "execution_count": 10,
   "id": "2418b2c7",
   "metadata": {},
   "outputs": [
    {
     "data": {
      "text/plain": [
       "0.6101712771197129"
      ]
     },
     "execution_count": 10,
     "metadata": {},
     "output_type": "execute_result"
    }
   ],
   "source": [
    "JI = 0\n",
    "for i in range(len(y_train)):\n",
    "    JI += jaccard(y_train[i], train_pred[i])\n",
    "JI/len(y_train)\n",
    "\n"
   ]
  },
  {
   "cell_type": "code",
   "execution_count": 11,
   "id": "f200b975",
   "metadata": {},
   "outputs": [],
   "source": [
    "def jaccard(y_gt, y_pred):\n",
    "    score = []\n",
    "    for b in range(y_gt.shape[0]):\n",
    "        target = np.where(y_gt[b] == 1)[0]\n",
    "        out_list = np.where(y_pred[b] == 1)[0]\n",
    "        inter = set(out_list) & set(target)\n",
    "        union = set(out_list) | set(target)\n",
    "        jaccard_score = 0 if union == 0 else len(inter) / len(union)\n",
    "        score.append(jaccard_score)\n",
    "    return np.mean(score)"
   ]
  },
  {
   "cell_type": "code",
   "execution_count": 12,
   "id": "a6533edc",
   "metadata": {},
   "outputs": [
    {
     "data": {
      "text/plain": [
       "0.1025242068591953"
      ]
     },
     "execution_count": 12,
     "metadata": {},
     "output_type": "execute_result"
    }
   ],
   "source": [
    "jaccard(y_test, val_pred)"
   ]
  },
  {
   "cell_type": "code",
   "execution_count": 13,
   "id": "85c4e722",
   "metadata": {},
   "outputs": [],
   "source": [
    "def average_prc(y_gt, y_pred):\n",
    "    score = []\n",
    "    for b in range(y_gt.shape[0]):\n",
    "        target = np.where(y_gt[b] == 1)[0]\n",
    "        out_list = np.where(y_pred[b] == 1)[0]\n",
    "        inter = set(out_list) & set(target)\n",
    "        prc_score = 0 if len(out_list) == 0 else len(inter) / len(out_list)\n",
    "        score.append(prc_score)\n",
    "    return score"
   ]
  },
  {
   "cell_type": "code",
   "execution_count": null,
   "id": "bc64e7f3",
   "metadata": {},
   "outputs": [],
   "source": []
  }
 ],
 "metadata": {
  "kernelspec": {
   "display_name": "Python 3 (ipykernel)",
   "language": "python",
   "name": "python3"
  },
  "language_info": {
   "codemirror_mode": {
    "name": "ipython",
    "version": 3
   },
   "file_extension": ".py",
   "mimetype": "text/x-python",
   "name": "python",
   "nbconvert_exporter": "python",
   "pygments_lexer": "ipython3",
   "version": "3.9.7"
  }
 },
 "nbformat": 4,
 "nbformat_minor": 5
}
