{
 "cells": [
  {
   "cell_type": "code",
   "execution_count": 3,
   "id": "1519b2f8",
   "metadata": {},
   "outputs": [],
   "source": [
    "from lightgbm import LGBMClassifier\n",
    "from sklearn.multiclass import OneVsRestClassifier\n",
    "import numpy as np\n",
    "\n",
    "clf_multilabel = OneVsRestClassifier(LGBMClassifier())\n"
   ]
  },
  {
   "cell_type": "code",
   "execution_count": 7,
   "id": "4e882904",
   "metadata": {},
   "outputs": [],
   "source": [
    "train_data = np.random.rand(500, 2372)  # 500 entities, each contains 100 features\n",
    "train_label = np.random.randint(2, size=(500,300))  # 20 targets\n"
   ]
  },
  {
   "cell_type": "code",
   "execution_count": 8,
   "id": "fc4e00f0",
   "metadata": {},
   "outputs": [
    {
     "data": {
      "text/plain": [
       "OneVsRestClassifier(estimator=LGBMClassifier())"
      ]
     },
     "execution_count": 8,
     "metadata": {},
     "output_type": "execute_result"
    }
   ],
   "source": [
    "\n",
    "\n",
    "clf_multilabel.fit(train_data,train_label)\n"
   ]
  },
  {
   "cell_type": "code",
   "execution_count": 10,
   "id": "c4f92a47",
   "metadata": {},
   "outputs": [],
   "source": [
    "val_data = np.random.rand(100, 2372)\n",
    "val_pred = clf_multilabel.predict(val_data)"
   ]
  },
  {
   "cell_type": "code",
   "execution_count": 11,
   "id": "811f9ab1",
   "metadata": {},
   "outputs": [
    {
     "data": {
      "text/plain": [
       "array([[0, 0, 1, ..., 1, 1, 0],\n",
       "       [1, 1, 1, ..., 0, 0, 0],\n",
       "       [1, 0, 0, ..., 0, 0, 0],\n",
       "       ...,\n",
       "       [1, 1, 1, ..., 0, 0, 0],\n",
       "       [1, 1, 1, ..., 0, 0, 0],\n",
       "       [1, 1, 1, ..., 1, 0, 1]])"
      ]
     },
     "execution_count": 11,
     "metadata": {},
     "output_type": "execute_result"
    }
   ],
   "source": [
    "val_pred"
   ]
  },
  {
   "cell_type": "code",
   "execution_count": 12,
   "id": "177f7679",
   "metadata": {},
   "outputs": [],
   "source": [
    "train_pred = clf_multilabel.predict(train_data)\n"
   ]
  },
  {
   "cell_type": "code",
   "execution_count": 13,
   "id": "d7275612",
   "metadata": {},
   "outputs": [
    {
     "data": {
      "text/plain": [
       "1.0"
      ]
     },
     "execution_count": 13,
     "metadata": {},
     "output_type": "execute_result"
    }
   ],
   "source": [
    "import numpy as np\n",
    "np.mean(train_pred == train_label)"
   ]
  },
  {
   "cell_type": "code",
   "execution_count": null,
   "id": "7dc785cc",
   "metadata": {},
   "outputs": [],
   "source": []
  }
 ],
 "metadata": {
  "kernelspec": {
   "display_name": "Python 3 (ipykernel)",
   "language": "python",
   "name": "python3"
  },
  "language_info": {
   "codemirror_mode": {
    "name": "ipython",
    "version": 3
   },
   "file_extension": ".py",
   "mimetype": "text/x-python",
   "name": "python",
   "nbconvert_exporter": "python",
   "pygments_lexer": "ipython3",
   "version": "3.9.7"
  }
 },
 "nbformat": 4,
 "nbformat_minor": 5
}
